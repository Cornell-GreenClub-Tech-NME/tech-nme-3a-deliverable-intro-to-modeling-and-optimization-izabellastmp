{
  "cells": [
    {
      "cell_type": "markdown",
      "metadata": {
        "id": "WOAEPfv7fnin"
      },
      "source": [
        "**Practice Linear Programming**\n",
        "\n",
        "Feel free to refer to the demo done in lecture: https://colab.research.google.com/drive/10yYw97pNP6SoNrXjHcijKnDB7oKyLkv5?usp=sharing\n"
      ]
    },
    {
      "cell_type": "markdown",
      "metadata": {
        "id": "u90UTfejgQzM"
      },
      "source": [
        "\n",
        "Suppose Cornell dinning halls produce **80 kg of food waste per day**.\n",
        "\n",
        "They can either:\n",
        "\n",
        "1. **Compost** it, with a cost of $0.12/kg and the impact of 2 points per kg (environmental impact :)\n",
        "\n",
        "2. **Donate** it to a local food bank with the cost of $0.25/kg and impact of 5 points per kg (social impact :)\n",
        "\n",
        "However Cornell dinning halls must 1. process **all 80 kg** of food waste every day 2. stay within a **$15 budget**\n",
        "\n",
        "Goal: Use Linear Programming to decide how much food to compost and how much to donate in order to **maximize total impact**.\n",
        "\n",
        "Please make sure you answer the following:\n",
        "  - How many kg of food to **compost**\n",
        "  - How many kg of food to **donate**\n",
        "  - What is the **total impact score**\n"
      ]
    },
    {
      "cell_type": "code",
      "execution_count": 1,
      "metadata": {
        "id": "ZnLarxm5g1QU"
      },
      "outputs": [
        {
          "name": "stdout",
          "output_type": "stream",
          "text": [
            "Collecting scipy\n",
            "  Downloading scipy-1.15.2-cp311-cp311-manylinux_2_17_x86_64.manylinux2014_x86_64.whl.metadata (61 kB)\n",
            "Collecting numpy<2.5,>=1.23.5 (from scipy)\n",
            "  Downloading numpy-2.2.4-cp311-cp311-manylinux_2_17_x86_64.manylinux2014_x86_64.whl.metadata (62 kB)\n",
            "Downloading scipy-1.15.2-cp311-cp311-manylinux_2_17_x86_64.manylinux2014_x86_64.whl (37.6 MB)\n",
            "\u001b[2K   \u001b[90m━━━━━━━━━━━━━━━━━━━━━━━━━━━━━━━━━━━━━━━━\u001b[0m \u001b[32m37.6/37.6 MB\u001b[0m \u001b[31m52.6 MB/s\u001b[0m eta \u001b[36m0:00:00\u001b[0m:00:01\u001b[0m\n",
            "\u001b[?25hDownloading numpy-2.2.4-cp311-cp311-manylinux_2_17_x86_64.manylinux2014_x86_64.whl (16.4 MB)\n",
            "\u001b[2K   \u001b[90m━━━━━━━━━━━━━━━━━━━━━━━━━━━━━━━━━━━━━━━━\u001b[0m \u001b[32m16.4/16.4 MB\u001b[0m \u001b[31m55.8 MB/s\u001b[0m eta \u001b[36m0:00:00\u001b[0m:00:01\u001b[0m\n",
            "\u001b[?25hInstalling collected packages: numpy, scipy\n",
            "Successfully installed numpy-2.2.4 scipy-1.15.2\n",
            "Note: you may need to restart the kernel to use updated packages.\n"
          ]
        }
      ],
      "source": [
        "pip install scipy"
      ]
    },
    {
      "cell_type": "code",
      "execution_count": 2,
      "metadata": {},
      "outputs": [],
      "source": [
        "\n",
        "from scipy.optimize import linprog"
      ]
    },
    {
      "cell_type": "code",
      "execution_count": 3,
      "metadata": {
        "id": "s5o8rVH3g7PI"
      },
      "outputs": [],
      "source": [
        "# The objective is to maximize social impact. Compost social impact per kg = 2; Donate social impact per kg= 5\n",
        "objective = [-2, -5]"
      ]
    },
    {
      "cell_type": "code",
      "execution_count": 7,
      "metadata": {},
      "outputs": [],
      "source": [
        "# Constraints:\n",
        "# $.12/kg * compost + $.25/kg * donate ≤ 15 (budget limit)\n",
        "\n",
        "constraint_coeffs = [\n",
        "    [.12, .25],  # Cost coefficients\n",
        "]\n",
        "\n",
        "constraint_limits = [15]  # constraints, given on the RHS of the equations"
      ]
    },
    {
      "cell_type": "code",
      "execution_count": 8,
      "metadata": {},
      "outputs": [],
      "source": [
        "# Equality constraints, so 1x + 1y = 80\n",
        "a_eq = [[1, 1]]\n",
        "b_eq = [80]"
      ]
    },
    {
      "cell_type": "code",
      "execution_count": 9,
      "metadata": {},
      "outputs": [],
      "source": [
        "# number of food to compost or donate must both be non-negative\n",
        "\n",
        "x_bounds = (0, None)\n",
        "y_bounds = (0, None)"
      ]
    },
    {
      "cell_type": "code",
      "execution_count": 11,
      "metadata": {},
      "outputs": [],
      "source": [
        "# Solve the problem\n",
        "solution = linprog(objective, A_ub= constraint_coeffs, b_ub= constraint_limits, A_eq= a_eq, b_eq=b_eq,\n",
        "                   bounds=[x_bounds, y_bounds], method='highs')\n"
      ]
    },
    {
      "cell_type": "code",
      "execution_count": 14,
      "metadata": {},
      "outputs": [
        {
          "name": "stdout",
          "output_type": "stream",
          "text": [
            "Optimal solution found:\n",
            "# of kg to compost: 38.46153846153846\n",
            "# of kg to donate: 41.53846153846154\n",
            "Total Impact Score: 284.61538461538464\n"
          ]
        }
      ],
      "source": [
        "# Show results\n",
        "if solution.success:\n",
        "    print(\"Optimal solution found:\")\n",
        "    #index 0 for solar panel, first item in the solution list\n",
        "    print(f\"# of kg to compost: {solution.x[0]}\")\n",
        "    print(f\"# of kg to donate: {solution.x[1]}\")\n",
        "    print(f\"Total Impact Score: {-solution.fun}\")\n",
        "else:\n",
        "    print(\"No solution found.\") #when .success == False"
      ]
    },
    {
      "cell_type": "markdown",
      "metadata": {},
      "source": [
        "So, \n",
        "number of kg to compost: 38.46153846153846\n",
        "number of kg to donate: 41.53846153846154\n",
        "Total Impact Score: 284.61538461538464"
      ]
    },
    {
      "cell_type": "markdown",
      "metadata": {
        "id": "MVYjxd-fijPQ"
      },
      "source": [
        "Reflection (Required)\n",
        "\n",
        "**How can linear programming be incorporated into projects you are currently working on or might work on in the future in GreenClub?**  "
      ]
    },
    {
      "cell_type": "markdown",
      "metadata": {
        "id": "65ynsxbvit9S"
      },
      "source": [
        "My response: Linear programming can be really helpful in the Composting TECH NME project I'm working on in GreenClub. It can help us figure out the most efficient ways to compost by automating the process, which is much faster than doing the calculations by hand. In the future, I’d love to use linear programming to improve sustainability in business. It could be a great tool for optimizing food waste management or finding the most eco-friendly methods for production. It’s a really powerful way to make sure we’re making the best decisions when it comes to sustainability.\n",
        "\n"
      ]
    }
  ],
  "metadata": {
    "colab": {
      "provenance": []
    },
    "kernelspec": {
      "display_name": "Python 3",
      "name": "python3"
    },
    "language_info": {
      "codemirror_mode": {
        "name": "ipython",
        "version": 3
      },
      "file_extension": ".py",
      "mimetype": "text/x-python",
      "name": "python",
      "nbconvert_exporter": "python",
      "pygments_lexer": "ipython3",
      "version": "3.11.11"
    }
  },
  "nbformat": 4,
  "nbformat_minor": 0
}
